{
 "cells": [
  {
   "cell_type": "markdown",
   "metadata": {},
   "source": [
    "# Read the qap files to be analysed\n"
   ]
  },
  {
   "cell_type": "code",
   "execution_count": 1,
   "metadata": {
    "collapsed": false,
    "scrolled": true
   },
   "outputs": [],
   "source": [
    "import os\n",
    "from qap import QAP\n",
    "import numpy as np\n",
    "import scipy as sp\n",
    "import itertools\n",
    "import math\n",
    "import matplotlib as mpl\n",
    "import matplotlib.pyplot as plt; plt.rc('text', usetex=True)\n",
    "import glob\n",
    "import pandas as pd\n",
    "import time\n",
    "import re\n",
    "import analyse as p\n",
    "import matplotlib.pyplot as plt\n",
    "\n",
    "problem = QAP\n",
    "datfiles = [\n",
    "    'qap/ov0_adqap_16.0.0.5.0.5.7.dat',\n",
    "    'qap/ov0_adqap_16.0.0.5.0.5.6.dat',\n",
    "    'qap/ov0_adqap_16.0.0.5.0.5.5.dat',\n",
    "    'qap/ov0_adqap_16.0.0.5.0.5.4.dat',\n",
    "    'qap/ov0_adqap_16.0.0.5.0.5.3.dat',\n",
    "    'qap/ov0_adqap_16.0.0.5.0.5.2.dat',\n",
    "    'qap/ov0_adqap_16.0.0.5.0.5.1.dat',\n",
    "    'qap/ov0_adqap_16.0.0.5.0.5.0.dat',\n",
    "    ]\n",
    "#Create a test object to know all the attributes\n",
    "\n",
    "testobj = problem(filename = datfiles[0])\n",
    "testobj.localsearch(n = 5)\n",
    "testobj.walktest(steps = 10)\n",
    "properties = testobj.outputs.keys()\n",
    "\n",
    "data = pd.DataFrame()\n",
    "labels = {}\n",
    "for p in properties:\n",
    "    data[p] = np.ndarray((len(datfiles)))"
   ]
  },
  {
   "cell_type": "markdown",
   "metadata": {},
   "source": [
    "# Perform fitness landscape characterisation\n",
    "\n",
    "We have local search-based methods, and random walk-based methods.\n"
   ]
  },
  {
   "cell_type": "code",
   "execution_count": 2,
   "metadata": {
    "collapsed": false
   },
   "outputs": [],
   "source": [
    "for i, datfile in enumerate(datfiles):\n",
    "    q = problem(filename = datfile)\n",
    "    q.localsearch(n = 100)\n",
    "    q.walktest(steps = 10000)\n",
    "    for p in properties:\n",
    "        data[p][i] = q.outputs[p][0]\n",
    "        labels[p] = q.outputs[p][1]"
   ]
  },
  {
   "cell_type": "markdown",
   "metadata": {},
   "source": [
    "# Explore and Visualise\n",
    "\n",
    "Here we visualise the data\n"
   ]
  },
  {
   "cell_type": "code",
   "execution_count": 7,
   "metadata": {
    "collapsed": false
   },
   "outputs": [],
   "source": [
    "xd = 'dom_w'\n",
    "yd = 'rugdness'\n",
    "ax=data.plot(x = xd,y = yd,linewidth = 0,marker = 'x',legend = False)\n",
    "ax.set_xlabel(labels[xd])\n",
    "ax.set_ylabel(labels[yd])\n",
    "ax.text(\n",
    "    0.95,0.95,'{:4.3f}'.format(data.corr()[xd][yd]),\n",
    "    horizontalalignment='right',verticalalignment='top',transform = ax.transAxes)\n",
    "ax.set_xlim(data[xd].min()-0.001*data[xd].min(),data[xd].max()+0.001*data[xd].max())\n",
    "ax.set_ylim(data[yd].min()-0.01*data[yd].min(),data[yd].max()+0.01*data[yd].max())\n",
    "plt.show()"
   ]
  },
  {
   "cell_type": "code",
   "execution_count": 5,
   "metadata": {
    "collapsed": false
   },
   "outputs": [],
   "source": [
    "plt.hist(data['dom_w'], bins='auto')\n",
    "plt.title(labels['dom_w'])\n",
    "plt.show()"
   ]
  },
  {
   "cell_type": "code",
   "execution_count": null,
   "metadata": {
    "collapsed": true
   },
   "outputs": [],
   "source": []
  }
 ],
 "metadata": {
  "kernelspec": {
   "display_name": "Python 3",
   "language": "python",
   "name": "python3"
  },
  "language_info": {
   "codemirror_mode": {
    "name": "ipython",
    "version": 3
   },
   "file_extension": ".py",
   "mimetype": "text/x-python",
   "name": "python",
   "nbconvert_exporter": "python",
   "pygments_lexer": "ipython3",
   "version": "3.4.3"
  },
  "widgets": {
   "state": {},
   "version": "1.1.2"
  }
 },
 "nbformat": 4,
 "nbformat_minor": 1
}
